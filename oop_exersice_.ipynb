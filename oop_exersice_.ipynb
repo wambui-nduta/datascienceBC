{
  "nbformat": 4,
  "nbformat_minor": 0,
  "metadata": {
    "colab": {
      "provenance": [],
      "authorship_tag": "ABX9TyN0VXnyP2VTOeMZZg/PoAcf",
      "include_colab_link": true
    },
    "kernelspec": {
      "name": "python3",
      "display_name": "Python 3"
    },
    "language_info": {
      "name": "python"
    }
  },
  "cells": [
    {
      "cell_type": "markdown",
      "metadata": {
        "id": "view-in-github",
        "colab_type": "text"
      },
      "source": [
        "<a href=\"https://colab.research.google.com/github/wambui-nduta/datascienceBC/blob/main/oop_exersice_.ipynb\" target=\"_parent\"><img src=\"https://colab.research.google.com/assets/colab-badge.svg\" alt=\"Open In Colab\"/></a>"
      ]
    },
    {
      "cell_type": "code",
      "execution_count": 7,
      "metadata": {
        "colab": {
          "base_uri": "https://localhost:8080/"
        },
        "id": "SOLArMXn8smy",
        "outputId": "de12311b-ab51-4b90-dae0-767d15c8a044"
      },
      "outputs": [
        {
          "output_type": "stream",
          "name": "stdout",
          "text": [
            "Donny says woof!\n",
            "Skittles says meow!\n",
            "Brown says moo!\n"
          ]
        }
      ],
      "source": [
        "class Animal :\n",
        "  def __init__(self,name):\n",
        "    self.name=name\n",
        "\n",
        "  def make_sound (self):\n",
        "    pass\n",
        "class Dog(Animal):\n",
        "  def make_sound (self):\n",
        "     return f\"{self.name } says woof!\"\n",
        "\n",
        "\n",
        "class Cat(Animal) :\n",
        "   def make_sound (self):\n",
        "      return f\"{self.name } says meow!\"\n",
        "\n",
        "\n",
        "class Cow(Animal):\n",
        "   def make_sound (self):\n",
        "     return f\"{self.name } says moo!\"\n",
        "\n",
        "\n",
        "dog = Dog(\"Donny\")\n",
        "cat = Cat(\"Skittles\")\n",
        "cow = Cow(\"Brown\")\n",
        "\n",
        "\n",
        "print(dog.make_sound())\n",
        "print(cat.make_sound())\n",
        "print(cow.make_sound())\n",
        "\n"
      ]
    }
  ]
}